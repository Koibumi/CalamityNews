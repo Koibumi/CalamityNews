{
 "cells": [
  {
   "cell_type": "code",
   "execution_count": null,
   "metadata": {},
   "outputs": [],
   "source": [
    "import os\n",
    "import shutil\n",
    "import re\n",
    "import markdown\n",
    "import zipfile\n",
    "import shutil\n"
   ]
  },
  {
   "cell_type": "code",
   "execution_count": null,
   "metadata": {},
   "outputs": [],
   "source": [
    "\n",
    "def copy_media(md_content, md_dir, output_dir):\n",
    "    # 正则表达式匹配图片引用\n",
    "    image_pattern = re.compile(r'!\\[.*?\\]\\((.*?)\\)')\n",
    "    images = image_pattern.findall(md_content)\n",
    "    \n",
    "    # 正则表达式匹配视频引用\n",
    "    video_pattern = re.compile(r'<video\\s+.*?src=[\"\\'](.*?)[\"\\'].*?>')\n",
    "    videos = video_pattern.findall(md_content)\n",
    "    \n",
    "    media = images+videos\n",
    "\n",
    "    for media_path in media:\n",
    "        # 构造图片的绝对路径\n",
    "        full_media_path = os.path.join(md_dir, media_path)\n",
    "        \n",
    "        if os.path.exists(full_media_path):\n",
    "            # 确保目标目录存在\n",
    "            if not os.path.exists(output_dir):\n",
    "                os.makedirs(output_dir)\n",
    "\n",
    "            # 将图片复制到目标目录\n",
    "            shutil.copy(full_media_path, output_dir)\n",
    "\n",
    "            # 更新图片路径为 HTML 目录下的相对路径\n",
    "            image_file_name = os.path.basename(media_path)\n",
    "            new_media_path = os.path.join('.', image_file_name)\n",
    "            md_content = md_content.replace(media_path, new_media_path)\n",
    "\n",
    "    return md_content\n"
   ]
  },
  {
   "cell_type": "code",
   "execution_count": null,
   "metadata": {},
   "outputs": [],
   "source": [
    "\n",
    "def convert_markdown_to_html(md_file_path, output_html_path):\n",
    "    # 读取 Markdown 文件内容\n",
    "    with open(md_file_path, 'r', encoding='utf-8') as md_file:\n",
    "        md_content = md_file.read()\n",
    "\n",
    "    # 获取 Markdown 文件所在目录\n",
    "    md_dir = os.path.dirname(md_file_path)\n",
    "\n",
    "    # 获取输出 HTML 所在目录\n",
    "    output_dir = os.path.dirname(output_html_path)\n",
    "\n",
    "    # 处理图片引用并复制图片\n",
    "    md_content = copy_media(md_content, md_dir, output_dir)\n",
    "\n",
    "    # 转换为 HTML\n",
    "    html_content = markdown.markdown(md_content)\n",
    "\n",
    "    # 保存为 HTML 文件\n",
    "    with open(output_html_path, 'w', encoding='utf-8') as html_file:\n",
    "        html_file.write(html_content)\n",
    "\n",
    "    print(f\"Markdown 文件 '{md_file_path}' 已成功转换为 HTML '{output_html_path}'\")\n"
   ]
  },
  {
   "cell_type": "code",
   "execution_count": null,
   "metadata": {},
   "outputs": [],
   "source": [
    "def zip_folder_and_delete_original(folder_path, output_zip_path):\n",
    "    \"\"\"\n",
    "    Compress a folder into a .zip file and delete the original folder.\n",
    "\n",
    "    :param folder_path: The path to the folder to compress\n",
    "    :param output_zip_path: The path where the .zip file will be saved\n",
    "    \"\"\"\n",
    "    try:\n",
    "        # Create a ZIP file\n",
    "        with zipfile.ZipFile(output_zip_path, 'w', zipfile.ZIP_DEFLATED) as zipf:\n",
    "            # Walk through the folder and add each file to the zip\n",
    "            for root, dirs, files in os.walk(folder_path):\n",
    "                for file in files:\n",
    "                    file_path = os.path.join(root, file)\n",
    "                    # Create a relative path within the zip\n",
    "                    relative_path = os.path.relpath(file_path, folder_path)\n",
    "                    # Add the file to the zip\n",
    "                    zipf.write(file_path, relative_path)\n",
    "                    print(f\"Added {file_path} as {relative_path}\")\n",
    "\n",
    "        print(f\"Folder '{folder_path}' has been successfully zipped to '{output_zip_path}'\")\n",
    "\n",
    "        # Delete the original folder\n",
    "        shutil.rmtree(folder_path)\n",
    "        print(f\"Original folder '{folder_path}' has been deleted.\")\n",
    "\n",
    "    except Exception as e:\n",
    "        print(f\"An error occurred: {e}\")"
   ]
  },
  {
   "cell_type": "code",
   "execution_count": null,
   "metadata": {},
   "outputs": [],
   "source": [
    "\n",
    "# 修改monthly_title后运行进行打包\n",
    "monthly_title = 'Aug2024'\n",
    "md_file_path = monthly_title+'/'+monthly_title+'.md'  # 输入的 Markdown 文件路径\n",
    "output_html_path = 'temp/ '+monthly_title+'.html'  # 输出的 HTML 文件路径\n",
    "output_folder_path = 'temp'\n",
    "output_zip_path = monthly_title+'.zip'\n",
    "convert_markdown_to_html(md_file_path, output_html_path)\n",
    "zip_folder_and_delete_original(output_folder_path, output_zip_path)\n",
    "\n"
   ]
  }
 ],
 "metadata": {
  "kernelspec": {
   "display_name": "Python 3",
   "language": "python",
   "name": "python3"
  },
  "language_info": {
   "codemirror_mode": {
    "name": "ipython",
    "version": 3
   },
   "file_extension": ".py",
   "mimetype": "text/x-python",
   "name": "python",
   "nbconvert_exporter": "python",
   "pygments_lexer": "ipython3",
   "version": "3.11.1"
  }
 },
 "nbformat": 4,
 "nbformat_minor": 2
}
